{
 "cells": [
  {
   "cell_type": "code",
   "execution_count": null,
   "metadata": {},
   "outputs": [],
   "source": [
    "import numpy as np\n",
    "import pandas as pd\n",
    "file_path =r\"C:\\Users\\mgabi\\Desktop\\becode\\becode_projects\\immo-eliza-ml\\Cleaning\\properties.csv\"\n",
    "data = pd.read_csv(file_path)\n",
    "\n",
    "\n"
   ]
  },
  {
   "cell_type": "code",
   "execution_count": null,
   "metadata": {},
   "outputs": [
    {
     "data": {
      "text/plain": [
       "Total rows before cleaning: 75511\n"
      ]
     },
     "metadata": {},
     "output_type": "display_data"
    }
   ],
   "source": [
    "#some insights about the data\n",
    "print(f\"Total rows before cleaning: {len(data)}\")\n",
    "data.describe\n",
    "data.info"
   ]
  },
  {
   "cell_type": "code",
   "execution_count": null,
   "metadata": {},
   "outputs": [],
   "source": [
    "#Removing unnecessarily columns #\n",
    "data.drop(columns=[ 'cadastral_income', 'primary_energy_consumption_sqm'], inplace=True)\n",
    "data.columns"
   ]
  },
  {
   "cell_type": "code",
   "execution_count": null,
   "metadata": {},
   "outputs": [
    {
     "data": {
      "text/plain": [
       "                   Missing Values  Percentage\n",
       "id                              0        0.00\n",
       "price                           0        0.00\n",
       "property_type                   0        0.00\n",
       "subproperty_type                0        0.00\n",
       "region                          0        0.00\n",
       "province                        0        0.00\n",
       "locality                        0        0.00\n",
       "zip_code                        0        0.00\n",
       "latitude                    14098       18.67\n",
       "longitude                   14098       18.67\n",
       "construction_year           33391       44.22\n",
       "total_area_sqm               7615       10.08\n",
       "surface_land_sqm            36256       48.01\n",
       "nbr_frontages               26346       34.89\n",
       "nbr_bedrooms                    0        0.00\n",
       "equipped_kitchen                0        0.00\n",
       "fl_furnished                    0        0.00\n",
       "fl_open_fire                    0        0.00\n",
       "fl_terrace                      0        0.00\n",
       "terrace_sqm                 13140       17.40\n",
       "fl_garden                       0        0.00\n",
       "garden_sqm                   2939        3.89\n",
       "fl_swimming_pool                0        0.00\n",
       "fl_floodzone                    0        0.00\n",
       "state_building                  0        0.00\n",
       "epc                             0        0.00\n",
       "heating_type                    0        0.00\n",
       "fl_double_glazing               0        0.00\n"
      ]
     },
     "metadata": {},
     "output_type": "display_data"
    }
   ],
   "source": [
    "#Calculating the missing data for each column and its percentage\n",
    "missing_values = data.isna().sum()  \n",
    "total_rows = len(data)\n",
    "missing_percentage = round(((missing_values / total_rows) * 100),2)\n",
    "missing_data = pd.DataFrame({\n",
    "    'Missing Values': missing_values,\n",
    "    'Percentage': missing_percentage\n",
    "})\n",
    "\n",
    "print(missing_data)\n"
   ]
  },
  {
   "cell_type": "code",
   "execution_count": null,
   "metadata": {},
   "outputs": [],
   "source": [
    "# REmoving duplication only of the id and zip_codes matches\n",
    "data_cleaned = data.drop_duplicates(subset=['id', 'zip_code'], keep=False)\n",
    "print(f\"Total rows after cleaning: {len(data_cleaned)}\") # printing the number of observatin after cleaning\n",
    "\n",
    "# Remove leading, trailing ,and inside spaces from all string columns \n",
    "data_cleaned_spaces = data_cleaned.apply(lambda x: x.str.strip() if x.dtype == \"object\" else x)  # using .str.strip() this is only to remove the head and tail spaces\n",
    "data_cleaned_spaces = data_cleaned.apply(lambda x: x.str.replace(r'\\s+', ' ', regex=True) if x.dtype == \"object\" else x) # x.str.replace(r'\\s+', ' ', regex=True) using regex to remove unwanted spaces between words.\n",
    " \n",
    "# Filling the empty cells with 'NaN' if it is numeric and 'None' if it is 'string'  to be encoded later in the preprocessing step\n",
    "data_cleaned_spaces.replace({'MISSING': None, '': None}, inplace=True)\n",
    "def fill_missing_values(col):\n",
    "    if col.dtype == 'object':  # Check if the column is of type object (string)\n",
    "        return col.where(col.notna(), None)  \n",
    "    else:  # For numeric columns\n",
    "        return col.where(col.notna(), np.nan)  \n",
    "data_cleaned_final_1 = data_cleaned_spaces.apply(fill_missing_values)\n",
    "\n",
    "#Solving the encoding errors for price if it is exists to avoid any errors that can be occured \n",
    "data_cleaned_final_1['price'] = data_cleaned_final_1['price'].replace({'\\€': '', ',': ''}, regex=True)\n",
    "\n",
    "#removing raws with empty values  \n",
    "columns_to_check = ['province', 'zip_code','region','id','price','locality']  # Columns to check for empty values\n",
    "data_cleaned_final = data_cleaned_final_1.dropna(subset=columns_to_check, how='any') \n",
    "\n",
    "''' remove rows with empty strings. This is for confirmation, \n",
    "# it can be useless as explained in the previous 2 comments\".\n",
    "#however it has to be applied if I used it before conversion '''\n",
    "data_cleaned_final = data_cleaned_final[(data_cleaned_final[columns_to_check] != '').all(axis=1)] \n",
    "print(f\"Total rows after cleaning: {len(data_cleaned_final)}\")\n",
    "\n",
    "\n",
    "print( data_cleaned_final.dtypes)\n",
    "#Saving the cleaned file in the choesen path.\n",
    "data_cleaned_final.to_csv(r\"C:\\Users\\mgabi\\Desktop\\becode\\becode_projects\\immo-eliza-ml\\Cleaning\\properties_cleaned.csv\" ,index=False)"
   ]
  },
  {
   "cell_type": "code",
   "execution_count": null,
   "metadata": {},
   "outputs": [],
   "source": []
  }
 ],
 "metadata": {
  "kernelspec": {
   "display_name": "Python 3",
   "language": "python",
   "name": "python3"
  },
  "language_info": {
   "codemirror_mode": {
    "name": "ipython",
    "version": 3
   },
   "file_extension": ".py",
   "mimetype": "text/x-python",
   "name": "python",
   "nbconvert_exporter": "python",
   "pygments_lexer": "ipython3",
   "version": "3.12.4"
  }
 },
 "nbformat": 4,
 "nbformat_minor": 2
}
