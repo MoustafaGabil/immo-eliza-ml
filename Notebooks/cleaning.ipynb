{
 "cells": [
  {
   "cell_type": "code",
   "execution_count": 1,
   "metadata": {},
   "outputs": [
    {
     "name": "stdout",
     "output_type": "stream",
     "text": [
      "Current working directory: c:\\Users\\mgabi\\Desktop\\immo-eliza-ml\\Notebooks\n"
     ]
    }
   ],
   "source": [
    "# changing the working directory \n",
    "import os\n",
    "print(\"Current working directory:\", os.getcwd()) \n",
    "os.chdir(\"C:/Users/mgabi/Desktop/immo-eliza-ml\") ############ specify your working directory ############"
   ]
  },
  {
   "cell_type": "code",
   "execution_count": 2,
   "metadata": {},
   "outputs": [],
   "source": [
    "import numpy as np\n",
    "import pandas as pd\n",
    "file_path =r\"Cleaning\\properties.csv\"\n",
    "data = pd.read_csv(file_path)\n",
    "\n",
    "\n"
   ]
  },
  {
   "cell_type": "code",
   "execution_count": 3,
   "metadata": {},
   "outputs": [
    {
     "name": "stdout",
     "output_type": "stream",
     "text": [
      "Total rows before cleaning: 75511\n"
     ]
    },
    {
     "data": {
      "text/plain": [
       "<bound method DataFrame.info of              id     price property_type    subproperty_type            region  \\\n",
       "0      34221000  225000.0     APARTMENT           APARTMENT          Flanders   \n",
       "1       2104000  449000.0         HOUSE               HOUSE          Flanders   \n",
       "2      34036000  335000.0     APARTMENT           APARTMENT  Brussels-Capital   \n",
       "3      58496000  501000.0         HOUSE               HOUSE          Flanders   \n",
       "4      48727000  982700.0     APARTMENT              DUPLEX          Wallonia   \n",
       "...         ...       ...           ...                 ...               ...   \n",
       "75506  30785000  210000.0     APARTMENT           APARTMENT          Wallonia   \n",
       "75507  13524000  780000.0     APARTMENT           PENTHOUSE  Brussels-Capital   \n",
       "75508  43812000  798000.0         HOUSE  MIXED_USE_BUILDING  Brussels-Capital   \n",
       "75509  49707000  575000.0         HOUSE               VILLA          Flanders   \n",
       "75510  65278000  515000.0     APARTMENT           PENTHOUSE          Flanders   \n",
       "\n",
       "              province  locality  zip_code   latitude  longitude  ...  \\\n",
       "0              Antwerp   Antwerp      2050  51.217172   4.379982  ...   \n",
       "1        East Flanders      Gent      9185  51.174944   3.845248  ...   \n",
       "2             Brussels  Brussels      1070  50.842043   4.334543  ...   \n",
       "3              Antwerp  Turnhout      2275  51.238312   4.817192  ...   \n",
       "4      Walloon Brabant  Nivelles      1410        NaN        NaN  ...   \n",
       "...                ...       ...       ...        ...        ...  ...   \n",
       "75506          Hainaut   Tournai      7640        NaN        NaN  ...   \n",
       "75507         Brussels  Brussels      1200  50.840183   4.435570  ...   \n",
       "75508         Brussels  Brussels      1080        NaN        NaN  ...   \n",
       "75509    West Flanders    Veurne      8670        NaN        NaN  ...   \n",
       "75510          Antwerp   Antwerp      2000  51.220753   4.410247  ...   \n",
       "\n",
       "       fl_garden  garden_sqm  fl_swimming_pool  fl_floodzone  state_building  \\\n",
       "0              0         0.0                 0             0         MISSING   \n",
       "1              0         0.0                 0             0         MISSING   \n",
       "2              0         0.0                 0             1          AS_NEW   \n",
       "3              0         0.0                 0             1         MISSING   \n",
       "4              1       142.0                 0             0          AS_NEW   \n",
       "...          ...         ...               ...           ...             ...   \n",
       "75506          0         0.0                 0             1          AS_NEW   \n",
       "75507          0         0.0                 0             0          AS_NEW   \n",
       "75508          0         0.0                 0             1     TO_RENOVATE   \n",
       "75509          1         NaN                 0             1          AS_NEW   \n",
       "75510          0         0.0                 0             0         MISSING   \n",
       "\n",
       "      primary_energy_consumption_sqm      epc  heating_type  \\\n",
       "0                              231.0        C           GAS   \n",
       "1                              221.0        C       MISSING   \n",
       "2                                NaN  MISSING           GAS   \n",
       "3                               99.0        A       MISSING   \n",
       "4                               19.0       A+           GAS   \n",
       "...                              ...      ...           ...   \n",
       "75506                            NaN  MISSING       MISSING   \n",
       "75507                           95.0        B           GAS   \n",
       "75508                          351.0        G           GAS   \n",
       "75509                          269.0        C           GAS   \n",
       "75510                            NaN  MISSING       MISSING   \n",
       "\n",
       "       fl_double_glazing  cadastral_income  \n",
       "0                      1             922.0  \n",
       "1                      1             406.0  \n",
       "2                      0               NaN  \n",
       "3                      0               NaN  \n",
       "4                      0               NaN  \n",
       "...                  ...               ...  \n",
       "75506                  1               NaN  \n",
       "75507                  1               NaN  \n",
       "75508                  0               NaN  \n",
       "75509                  1             795.0  \n",
       "75510                  1               NaN  \n",
       "\n",
       "[75511 rows x 30 columns]>"
      ]
     },
     "execution_count": 3,
     "metadata": {},
     "output_type": "execute_result"
    }
   ],
   "source": [
    "#some insights about the data\n",
    "print(f\"Total rows before cleaning: {len(data)}\")\n",
    "data.describe\n",
    "data.info"
   ]
  },
  {
   "cell_type": "code",
   "execution_count": 4,
   "metadata": {},
   "outputs": [
    {
     "data": {
      "text/plain": [
       "Index(['id', 'price', 'property_type', 'subproperty_type', 'region',\n",
       "       'province', 'locality', 'zip_code', 'latitude', 'longitude',\n",
       "       'construction_year', 'total_area_sqm', 'surface_land_sqm',\n",
       "       'nbr_frontages', 'nbr_bedrooms', 'equipped_kitchen', 'fl_furnished',\n",
       "       'fl_open_fire', 'fl_terrace', 'terrace_sqm', 'fl_garden', 'garden_sqm',\n",
       "       'fl_swimming_pool', 'fl_floodzone', 'state_building', 'epc',\n",
       "       'heating_type', 'fl_double_glazing'],\n",
       "      dtype='object')"
      ]
     },
     "execution_count": 4,
     "metadata": {},
     "output_type": "execute_result"
    }
   ],
   "source": [
    "#Removing unnecessarily columns #\n",
    "data.drop(columns=[ 'cadastral_income', 'primary_energy_consumption_sqm'], inplace=True)\n",
    "data.columns"
   ]
  },
  {
   "cell_type": "code",
   "execution_count": 5,
   "metadata": {},
   "outputs": [
    {
     "name": "stdout",
     "output_type": "stream",
     "text": [
      "                   Missing Values  Percentage\n",
      "id                              0        0.00\n",
      "price                           0        0.00\n",
      "property_type                   0        0.00\n",
      "subproperty_type                0        0.00\n",
      "region                          0        0.00\n",
      "province                        0        0.00\n",
      "locality                        0        0.00\n",
      "zip_code                        0        0.00\n",
      "latitude                    14098       18.67\n",
      "longitude                   14098       18.67\n",
      "construction_year           33391       44.22\n",
      "total_area_sqm               7615       10.08\n",
      "surface_land_sqm            36256       48.01\n",
      "nbr_frontages               26346       34.89\n",
      "nbr_bedrooms                    0        0.00\n",
      "equipped_kitchen                0        0.00\n",
      "fl_furnished                    0        0.00\n",
      "fl_open_fire                    0        0.00\n",
      "fl_terrace                      0        0.00\n",
      "terrace_sqm                 13140       17.40\n",
      "fl_garden                       0        0.00\n",
      "garden_sqm                   2939        3.89\n",
      "fl_swimming_pool                0        0.00\n",
      "fl_floodzone                    0        0.00\n",
      "state_building                  0        0.00\n",
      "epc                             0        0.00\n",
      "heating_type                    0        0.00\n",
      "fl_double_glazing               0        0.00\n"
     ]
    }
   ],
   "source": [
    "#Calculating the missing data for each column and its percentage\n",
    "missing_values = data.isna().sum()  \n",
    "total_rows = len(data)\n",
    "missing_percentage = round(((missing_values / total_rows) * 100),2)\n",
    "missing_data = pd.DataFrame({\n",
    "    'Missing Values': missing_values,\n",
    "    'Percentage': missing_percentage\n",
    "})\n",
    "\n",
    "print(missing_data)\n"
   ]
  },
  {
   "cell_type": "code",
   "execution_count": 6,
   "metadata": {},
   "outputs": [
    {
     "name": "stdout",
     "output_type": "stream",
     "text": [
      "Total rows after cleaning: 75221\n",
      "Total rows after cleaning: 75218\n",
      "id                     int64\n",
      "price                float64\n",
      "property_type         object\n",
      "subproperty_type      object\n",
      "region                object\n",
      "province              object\n",
      "locality              object\n",
      "zip_code               int64\n",
      "latitude             float64\n",
      "longitude            float64\n",
      "construction_year    float64\n",
      "total_area_sqm       float64\n",
      "surface_land_sqm     float64\n",
      "nbr_frontages        float64\n",
      "nbr_bedrooms         float64\n",
      "equipped_kitchen      object\n",
      "fl_furnished           int64\n",
      "fl_open_fire           int64\n",
      "fl_terrace             int64\n",
      "terrace_sqm          float64\n",
      "fl_garden              int64\n",
      "garden_sqm           float64\n",
      "fl_swimming_pool       int64\n",
      "fl_floodzone           int64\n",
      "state_building        object\n",
      "epc                   object\n",
      "heating_type          object\n",
      "fl_double_glazing      int64\n",
      "dtype: object\n"
     ]
    }
   ],
   "source": [
    "# REmoving duplication only of the id and zip_codes matches\n",
    "data_cleaned = data.drop_duplicates(subset=['id', 'zip_code'], keep=False)\n",
    "print(f\"Total rows after cleaning: {len(data_cleaned)}\") # printing the number of observatin after cleaning\n",
    "\n",
    "# Remove leading, trailing ,and inside spaces from all string columns \n",
    "data_cleaned_spaces = data_cleaned.apply(lambda x: x.str.strip() if x.dtype == \"object\" else x)  # using .str.strip() this is only to remove the head and tail spaces\n",
    "data_cleaned_spaces = data_cleaned.apply(lambda x: x.str.replace(r'\\s+', ' ', regex=True) if x.dtype == \"object\" else x) # x.str.replace(r'\\s+', ' ', regex=True) using regex to remove unwanted spaces between words.\n",
    " \n",
    "# Filling the empty cells with 'NaN' if it is numeric and 'None' if it is 'string'  to be encoded later in the preprocessing step\n",
    "data_cleaned_spaces.replace({'MISSING': None, '': None}, inplace=True)\n",
    "def fill_missing_values(col):\n",
    "    if col.dtype == 'object':  # Check if the column is of type object (string)\n",
    "        return col.where(col.notna(), None)  \n",
    "    else:  # For numeric columns\n",
    "        return col.where(col.notna(), np.nan)  \n",
    "data_cleaned_final_1 = data_cleaned_spaces.apply(fill_missing_values)\n",
    "\n",
    "#Solving the encoding errors for price if it is exists to avoid any errors that can be occured \n",
    "data_cleaned_final_1['price'] = data_cleaned_final_1['price'].replace({'\\€': '', ',': ''}, regex=True)\n",
    "\n",
    "#removing raws with empty values  \n",
    "columns_to_check = ['province', 'zip_code','region','id','price','locality']  # Columns to check for empty values\n",
    "data_cleaned_final = data_cleaned_final_1.dropna(subset=columns_to_check, how='any') \n",
    "\n",
    "''' remove rows with empty strings. This is for confirmation, \n",
    "# it can be useless as explained in the previous 2 comments\".\n",
    "#however it has to be applied if I used it before conversion '''\n",
    "data_cleaned_final = data_cleaned_final[(data_cleaned_final[columns_to_check] != '').all(axis=1)] \n",
    "print(f\"Total rows after cleaning: {len(data_cleaned_final)}\")\n",
    "\n",
    "\n",
    "print( data_cleaned_final.dtypes)\n",
    "#Saving the cleaned file in the choesen path.\n",
    "data_cleaned_final.to_csv(r\"Cleaning\\properties_cleaned.csv\" ,index=False)"
   ]
  },
  {
   "cell_type": "code",
   "execution_count": null,
   "metadata": {},
   "outputs": [],
   "source": []
  }
 ],
 "metadata": {
  "kernelspec": {
   "display_name": "imo_models",
   "language": "python",
   "name": "python3"
  },
  "language_info": {
   "codemirror_mode": {
    "name": "ipython",
    "version": 3
   },
   "file_extension": ".py",
   "mimetype": "text/x-python",
   "name": "python",
   "nbconvert_exporter": "python",
   "pygments_lexer": "ipython3",
   "version": "3.12.4"
  }
 },
 "nbformat": 4,
 "nbformat_minor": 2
}
