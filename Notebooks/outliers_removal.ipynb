{
 "cells": [
  {
   "cell_type": "code",
   "execution_count": 1,
   "metadata": {},
   "outputs": [],
   "source": [
    "import pandas as pd"
   ]
  },
  {
   "cell_type": "code",
   "execution_count": 2,
   "metadata": {},
   "outputs": [
    {
     "name": "stdout",
     "output_type": "stream",
     "text": [
      "Current working directory: c:\\Users\\mgabi\\Desktop\\immo-eliza-ml\\Notebooks\n"
     ]
    }
   ],
   "source": [
    "# changing the working directory \n",
    "import os\n",
    "print(\"Current working directory:\", os.getcwd()) \n",
    "os.chdir(\"C:/Users/mgabi/Desktop/immo-eliza-ml\") ############ specify your working directory ############"
   ]
  },
  {
   "cell_type": "code",
   "execution_count": 3,
   "metadata": {},
   "outputs": [
    {
     "name": "stdout",
     "output_type": "stream",
     "text": [
      "Total rows before cleaning: 75218\n"
     ]
    },
    {
     "data": {
      "text/plain": [
       "Index(['id', 'price', 'property_type', 'subproperty_type', 'region',\n",
       "       'province', 'locality', 'zip_code', 'latitude', 'longitude',\n",
       "       'construction_year', 'total_area_sqm', 'surface_land_sqm',\n",
       "       'nbr_frontages', 'nbr_bedrooms', 'equipped_kitchen', 'fl_furnished',\n",
       "       'fl_open_fire', 'fl_terrace', 'terrace_sqm', 'fl_garden', 'garden_sqm',\n",
       "       'fl_swimming_pool', 'fl_floodzone', 'state_building', 'epc',\n",
       "       'heating_type', 'fl_double_glazing'],\n",
       "      dtype='object')"
      ]
     },
     "execution_count": 3,
     "metadata": {},
     "output_type": "execute_result"
    }
   ],
   "source": [
    "data = pd.read_csv(r\"Cleaning\\properties_cleaned.csv\")\n",
    "print(f\"Total rows before cleaning: {len(data)}\")\n",
    "data.columns"
   ]
  },
  {
   "cell_type": "code",
   "execution_count": 4,
   "metadata": {},
   "outputs": [
    {
     "name": "stdout",
     "output_type": "stream",
     "text": [
      "Number of observation data before removing the outliers in Brussels is 36065\n",
      "Number of observation data before removing the outliers in Flanders is 39153\n"
     ]
    }
   ],
   "source": [
    "\n",
    "# Filter the DataFrame for a specific region\n",
    "apartment = data[data['property_type'] == 'APARTMENT']\n",
    "house = data[data['property_type'] == 'HOUSE']\n",
    "print('Number of observation data before removing the outliers in Brussels is',apartment['region'].count())     # 'region' only for counting we can use differnt complete column\n",
    "print('Number of observation data before removing the outliers in Flanders is',house['region'].count())\n"
   ]
  },
  {
   "cell_type": "code",
   "execution_count": 5,
   "metadata": {},
   "outputs": [
    {
     "name": "stdout",
     "output_type": "stream",
     "text": [
      "881500.0\n",
      "-114500.0\n"
     ]
    }
   ],
   "source": [
    "################################  outliers For Houses  ######################################\n",
    "### Finding the IQR\n",
    "percentile25 = house['price'].quantile(0.25) #---> Q1\n",
    "percentile75 = house['price'].quantile(0.75) #---> Q3\n",
    "IQR = percentile75-percentile25\n",
    "## Finding the upper and lower limits\n",
    "upper_limit_h = percentile75 + 1.5 * IQR\n",
    "lower_limit_h = percentile25 - 1.5*  IQR # --> 1 instead of 1.5 as the values I have is positives\n",
    "print(upper_limit_h)\n",
    "print(lower_limit_h)\n",
    "Upper_outlier_excluded = house[house['price'] > upper_limit_h]   # change the number to ( upper limit and check)\n",
    "Lower_outlier_excluded = house[house['price'] < lower_limit_h]   \n",
    "\n",
    "data_H_no_outlier = house[house['price'] < upper_limit_h]   # change the number to ( upper limit and check)\n",
    "data_H_no_outlier.shape\n",
    "data_H_no_outlier = house[(house['price'] < upper_limit_h) & (house['price'] > lower_limit_h)]\n",
    "\n"
   ]
  },
  {
   "cell_type": "code",
   "execution_count": 6,
   "metadata": {},
   "outputs": [
    {
     "name": "stdout",
     "output_type": "stream",
     "text": [
      "765250.0\n",
      "-143500.0\n"
     ]
    }
   ],
   "source": [
    "################################  outliers For Apartment  ######################################\n",
    "### Finding the IQR\n",
    "percentile25_A = apartment['price'].quantile(0.25) #---> Q1\n",
    "percentile75_A = apartment['price'].quantile(0.75) #---> Q3\n",
    "IQR = percentile75-percentile25\n",
    "## Finding the upper and lower limits\n",
    "upper_limit_A = percentile75_A + 1.5 * IQR\n",
    "lower_limit_A =  percentile25_A - 1.5 * IQR   #percentile25_A - 1*IQR # --> 1 instead of 1.5 as the values I have is positives\n",
    "print(upper_limit_A)\n",
    "print(lower_limit_A)\n",
    "data_A_no_outlier = apartment[apartment['price'] < upper_limit_A]   # change the number to ( upper limit and check)\n",
    "data_A_no_outlier.shape\n",
    "data_A_no_outlier = apartment[(apartment['price'] < upper_limit_A) & (apartment['price'] > lower_limit_A)]\n"
   ]
  },
  {
   "cell_type": "code",
   "execution_count": 7,
   "metadata": {},
   "outputs": [],
   "source": [
    "combined_data_no_outlier = pd.concat([data_H_no_outlier, data_A_no_outlier])\n",
    "data_H_no_outlier.to_csv(r'Results and Evaluation\\HOUSE_without_outliers.csv', index=False)\n",
    "data_A_no_outlier.to_csv(r'Results and Evaluation\\APARTMENT_without_outliers.csv', index=False)\n",
    "combined_data_no_outlier.to_csv(r'Results and Evaluation\\Houses_and_Apartments_combined_without_outliers.csv', index=False)"
   ]
  },
  {
   "cell_type": "code",
   "execution_count": 8,
   "metadata": {},
   "outputs": [
    {
     "name": "stdout",
     "output_type": "stream",
     "text": [
      "Percentage of outliers for Houses: 7.12%\n",
      "Percentage of outliers for Apartments: 7.73%\n"
     ]
    }
   ],
   "source": [
    "############# calculating the percentages ####################\n",
    "total_houses = house.shape[0]\n",
    "Upper_outlier_excluded_H = house[house['price'] > upper_limit_h]   # change the number to ( upper limit and check)\n",
    "Lower_outlier_excluded_H = house[house['price'] < lower_limit_h]  \n",
    "total_outliers_houses = Upper_outlier_excluded_H.shape[0] + Lower_outlier_excluded_H.shape[0]\n",
    "percentage_outliers_houses = round(((total_outliers_houses / total_houses) * 100),2)\n",
    "print(f\"Percentage of outliers for Houses: {percentage_outliers_houses}%\")\n",
    "\n",
    "# calculating the percentages of the outliers \" Apartmetns\"\n",
    "total_apartments = apartment.shape[0]\n",
    "Upper_outlier_excluded_A = apartment[apartment['price'] > upper_limit_A]   # change the number to ( upper limit and check)\n",
    "Lower_outlier_excluded_A = apartment[apartment['price'] < lower_limit_A] \n",
    "total_outliers_apartments = Upper_outlier_excluded.shape[0] + Lower_outlier_excluded.shape[0]\n",
    "percentage_outliers_apartments = round(((total_outliers_apartments / total_apartments) * 100),2)\n",
    "\n",
    "print(f\"Percentage of outliers for Apartments: {percentage_outliers_apartments}%\")"
   ]
  },
  {
   "cell_type": "code",
   "execution_count": null,
   "metadata": {},
   "outputs": [],
   "source": []
  }
 ],
 "metadata": {
  "kernelspec": {
   "display_name": "Python 3",
   "language": "python",
   "name": "python3"
  },
  "language_info": {
   "codemirror_mode": {
    "name": "ipython",
    "version": 3
   },
   "file_extension": ".py",
   "mimetype": "text/x-python",
   "name": "python",
   "nbconvert_exporter": "python",
   "pygments_lexer": "ipython3",
   "version": "3.12.4"
  }
 },
 "nbformat": 4,
 "nbformat_minor": 2
}
